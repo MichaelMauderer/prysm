{
 "cells": [
  {
   "cell_type": "code",
   "execution_count": 1,
   "metadata": {
    "ExecuteTime": {
     "end_time": "2017-09-21T03:45:51.503827Z",
     "start_time": "2017-09-21T03:45:49.491159Z"
    }
   },
   "outputs": [],
   "source": [
    "from prysm import FringeZernike, StandardZernike\n",
    "import numpy as np\n",
    "%matplotlib inline"
   ]
  },
  {
   "cell_type": "code",
   "execution_count": 5,
   "metadata": {
    "ExecuteTime": {
     "end_time": "2017-09-21T03:45:56.191969Z",
     "start_time": "2017-09-21T03:45:51.503827Z"
    }
   },
   "outputs": [
    {
     "name": "stdout",
     "output_type": "stream",
     "text": [
      "myPupil3 has RMS wfe of: 1.99621234082\n",
      "\n",
      "Fringe Zernike description with:\n",
      "\t+1.000 Z5  - Primary Astigmatism 00deg\n",
      "\t1.937 PV, 0.407 RMS\n",
      "Fringe Zernike description with:\n",
      "\t-0.040 Z1  - Piston / Bias\n",
      "\t-0.409 Z2  - Tilt X\n",
      "\t-0.162 Z3  - Tilt Y\n",
      "\t-0.329 Z4  - Defocus / Power\n",
      "\t+0.035 Z5  - Primary Astigmatism 00deg\n",
      "\t+0.053 Z6  - Primary Astigmatism 45deg\n",
      "\t-0.239 Z7  - Primary Coma X\n",
      "\t+0.141 Z8  - Primary Coma Y\n",
      "\t-0.407 Z9  - Primary Spherical\n",
      "\t-0.115 Z10  - Primary Trefoil X\n",
      "\t+0.383 Z11 - Primary Trefoil Y\n",
      "\t-0.293 Z12 - Secondary Astigmatism 00deg\n",
      "\t-0.176 Z13 - Secondary Astigmatism 45deg\n",
      "\t-0.228 Z14 - Secondary Coma X\n",
      "\t-0.278 Z15 - Secondary Coma Y\n",
      "\t+0.379 Z16 - Secondary Spherical\n",
      "\t-0.175 Z17 - Primary Tetrafoil X\n",
      "\t-0.417 Z18 - Primary Tetrafoil Y\n",
      "\t+0.032 Z19 - Secondary Trefoil X\n",
      "\t-0.485 Z20 - Secondary Trefoil Y\n",
      "\t-0.243 Z21 - Tertiary Astigmatism 00deg\n",
      "\t+0.352 Z22 - Tertiary Astigmatism 45deg\n",
      "\t-0.083 Z23 - Tertiary Coma X\n",
      "\t+0.469 Z24 - Tertiary Coma Y\n",
      "\t+0.487 Z25 - Tertiary Spherical\n",
      "\t+0.301 Z26 - Pentafoil X\n",
      "\t+0.185 Z27 - Pentafoil Y\n",
      "\t-0.142 Z28 - Secondary Tetrafoil X\n",
      "\t+0.136 Z29 - Secondary Tetrafoil Y\n",
      "\t+0.048 Z30 - Tertiary Trefoil X\n",
      "\t+0.242 Z31 - Tertiary Trefoil Y\n",
      "\t+0.238 Z32 - Quarternary Astigmatism 00deg\n",
      "\t+0.252 Z33 - Quarternary Astigmatism 45deg\n",
      "\t-0.295 Z34 - Quarternary Coma X\n",
      "\t-0.217 Z35 - Quarternary Coma Y\n",
      "\t-0.377 Z36 - Quarternary Spherical\n",
      "\t-0.326 Z37 - Primary Hexafoil X\n",
      "\t+0.476 Z38 - Primary Hexafoil Y\n",
      "\t-0.055 Z39 - Secondary Pentafoil X\n",
      "\t+0.461 Z40 - Secondary Pentafoil Y\n",
      "\t-0.205 Z41 - Tertiary Tetrafoil X\n",
      "\t-0.080 Z42 - Tertiary Tetrafoil Y\n",
      "\t-0.022 Z43 - Quaternary Trefoil X\n",
      "\t-0.396 Z44 - Quaternary Trefoil Y\n",
      "\t+0.225 Z45 - Quinternary Astigmatism 00deg\n",
      "\t-0.461 Z46 - Quinternary Astigmatism 45deg\n",
      "\t-0.306 Z47 - Quinternary Coma X\n",
      "\t-0.088 Z48 - Quinternary Coma Y\n",
      "\t4.390 PV, 0.651 RMS\n"
     ]
    }
   ],
   "source": [
    "# use named terms\n",
    "myPupil = FringeZernike(Z5=1)\n",
    "\n",
    "# the base can be user-specified\n",
    "myPupil_base1 = FringeZernike(Z6=1, base=1)\n",
    "\n",
    "# pass an array of zernike terms starting from 0.\n",
    "wavefront_coefs = np.random.rand(48) - 0.5\n",
    "myPupil2 = FringeZernike(wavefront_coefs)\n",
    "\n",
    "# use orthonormalized form of zernikes\n",
    "myPupil3 = FringeZernike(Z4=1, Z6=1, Z8=1, Z10=1, rms_norm=True)\n",
    "print('myPupil3 has RMS wfe of:', myPupil3.rms) # should be close to sqrt(1^2 + 1^2 + 1^2 + 1^2) = sqrt(4) = 2\n",
    "print('')\n",
    "\n",
    "# the __repr__ for a Zernike-Based pupil contains the wavefront breakdown\n",
    "# and only lists the used coefficients\n",
    "print(myPupil)\n",
    "print('')\n",
    "print(myPupil2)"
   ]
  },
  {
   "cell_type": "code",
   "execution_count": 8,
   "metadata": {
    "ExecuteTime": {
     "end_time": "2017-09-21T03:46:07.290529Z",
     "start_time": "2017-09-21T03:45:56.191969Z"
    }
   },
   "outputs": [
    {
     "name": "stdout",
     "output_type": "stream",
     "text": [
      "Standard Zernike description with:\n",
      "\t-0.040 Z1  - Piston / Bias\n",
      "\t-0.409 Z2  - Tilt X\n",
      "\t-0.162 Z3  - Tilt Y\n",
      "\t-0.329 Z4  - Primary Astigmatism 00deg\n",
      "\t+0.035 Z5  - Defocus / Power\n",
      "\t+0.053 Z6  - Primary Astigmatism 45deg\n",
      "\t-0.239 Z7  - Primary Trefoil X\n",
      "\t+0.141 Z8  - Primary Coma X\n",
      "\t-0.407 Z9  - Primary Coma Y\n",
      "\t-0.115 Z10  - Primary Trefoil Y\n",
      "\t+0.383 Z11 - Primary Tetrafoil X\n",
      "\t-0.293 Z12 - Secondary Astigmatism 00deg\n",
      "\t-0.176 Z13 - Primary Spherical\n",
      "\t-0.228 Z14 - Secondary Astigmatism 45deg\n",
      "\t-0.278 Z15 - Primary Tetrafoil Y\n",
      "\t+0.379 Z16 - Primary Pentafoil X\n",
      "\t-0.175 Z17 - Secondary Trefoil X\n",
      "\t-0.417 Z18 - Secondary Coma X\n",
      "\t+0.032 Z19 - Secondary Coma Y\n",
      "\t-0.485 Z20 - Secondary Trefoil Y\n",
      "\t-0.243 Z21 - Primary Pentafoil Y\n",
      "\t+0.352 Z22 - Primary Hexafoil X\n",
      "\t-0.083 Z23 - Secondary Tetrafoil X\n",
      "\t+0.469 Z24 - Tertiary Astigmatism 00deg\n",
      "\t+0.487 Z25 - Secondary Spherical\n",
      "\t+0.301 Z26 - Tertariary Astigmatism 45deg\n",
      "\t+0.185 Z27 - Secondary Tetrafoil Y\n",
      "\t-0.142 Z28 - Primary Hexafoil Y\n",
      "\t+0.136 Z29 - Primary Heptafoil X\n",
      "\t+0.048 Z30 - Secondary Pentafoil X\n",
      "\t+0.242 Z31 - Tertiary Trefoil X\n",
      "\t+0.238 Z32 - Tertiary Coma X\n",
      "\t+0.252 Z33 - Tertiary Coma Y\n",
      "\t-0.295 Z34 - Tertiary Trefoil Y\n",
      "\t-0.217 Z35 - Secondary Pentafoil Y\n",
      "\t-0.377 Z36 - Primary Heptafoil Y\n",
      "\t-0.326 Z37 - Primary Octafoil X\n",
      "\t+0.476 Z38 - Secondary Hexafoil X\n",
      "\t-0.055 Z39 - Tertiary Tetrafoil X\n",
      "\t+0.461 Z40 - Quarternary Astigmatism 00deg\n",
      "\t-0.205 Z41 - Tertiary Spherical\n",
      "\t-0.080 Z42 - Quarternary Astigmatism 45deg\n",
      "\t-0.022 Z43 - Tertiary Tetrafoil Y\n",
      "\t-0.396 Z44 - Secondary Hexafoil Y\n",
      "\t+0.225 Z45 - Primary Octafoil Y\n",
      "\t-0.461 Z46 - Primary Nonafoil X\n",
      "\t-0.306 Z47 - Secondary Heptafoil X\n",
      "\t-0.088 Z48 - Tertiary Pentafoil X\n",
      "\t5.196 PV, 1.192 RMS\n"
     ]
    }
   ],
   "source": [
    "# we can also use Standard Zernikes -- the orthonormalized version has not yet been implemented\n",
    "# open an issue or PR if you would like to see them in prysm\n",
    "std_pup = StandardZernike(wavefront_coefs)\n",
    "print(std_pup)"
   ]
  },
  {
   "cell_type": "markdown",
   "metadata": {
    "collapsed": true
   },
   "source": [
    "Zernike-based pupils inherit a data structure and set of methods from Pupils -- see the Pupil example for details"
   ]
  },
  {
   "cell_type": "code",
   "execution_count": null,
   "metadata": {},
   "outputs": [],
   "source": []
  }
 ],
 "metadata": {
  "kernelspec": {
   "display_name": "Python 3",
   "language": "python",
   "name": "python3"
  },
  "language_info": {
   "codemirror_mode": {
    "name": "ipython",
    "version": 3
   },
   "file_extension": ".py",
   "mimetype": "text/x-python",
   "name": "python",
   "nbconvert_exporter": "python",
   "pygments_lexer": "ipython3",
   "version": "3.6.3"
  }
 },
 "nbformat": 4,
 "nbformat_minor": 2
}
