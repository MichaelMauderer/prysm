{
 "cells": [
  {
   "cell_type": "code",
   "execution_count": null,
   "metadata": {
    "collapsed": true
   },
   "outputs": [],
   "source": [
    "# add ../code6 to the system path so it is found by Python -- this is not needed if you install the module\n",
    "import sys\n",
    "sys.path.append('..')\n",
    "\n",
    "from code6 import FringeZernike\n",
    "import numpy as np\n",
    "%matplotlib inline"
   ]
  },
  {
   "cell_type": "code",
   "execution_count": null,
   "metadata": {},
   "outputs": [],
   "source": [
    "# use named terms\n",
    "myPupil = FringeZernike(Z5=1)\n",
    "\n",
    "# pass an array of zernike terms starting from 0.  specify the pupil diameter in mm and wavelength in um\n",
    "wavefront_coefs = np.random.rand(36)\n",
    "myPupil2 = FringeZernike(wavefront_coefs, epd=10, wavelength=0.55)\n",
    "\n",
    "# use normalized form of zernikes and specify in units of um, units can be latex strings or nm/um\n",
    "myPupil3 = FringeZernike(Z29=1, rms_norm=True, opd_unit='nm')\n",
    "\n",
    "# specify number of samples across pupil\n",
    "myPupil4 = FringeZernike(wavefront_coefs, samples=1024)\n",
    "\n",
    "#pupils can be plotted in a variety of ways\n",
    "## an interferogram\n",
    "myPupil.interferogram()\n",
    "# a 2d phase map\n",
    "myPupil2.plot2d()\n",
    "# an X,Y trace through the pupil phase\n",
    "myPupil3.plot_slice_xy()\n",
    "# interferograms can have any number of passes and any level of visibility\n",
    "myPupil4.interferogram(visibility=0.5, passes=2)\n",
    "\n",
    "print(myPupil2)"
   ]
  },
  {
   "cell_type": "code",
   "execution_count": null,
   "metadata": {
    "collapsed": true
   },
   "outputs": [],
   "source": [
    "expup = FringeZernike(Z3=1, rms_norm=True, opd_unit='nm')"
   ]
  }
 ],
 "metadata": {
  "kernelspec": {
   "display_name": "Python 3",
   "language": "python",
   "name": "python3"
  },
  "language_info": {
   "codemirror_mode": {
    "name": "ipython",
    "version": 3
   },
   "file_extension": ".py",
   "mimetype": "text/x-python",
   "name": "python",
   "nbconvert_exporter": "python",
   "pygments_lexer": "ipython3",
   "version": "3.6.2"
  }
 },
 "nbformat": 4,
 "nbformat_minor": 2
}
