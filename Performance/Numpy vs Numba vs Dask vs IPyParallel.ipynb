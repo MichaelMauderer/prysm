{
 "cells": [
  {
   "cell_type": "code",
   "execution_count": 1,
   "metadata": {},
   "outputs": [],
   "source": [
    "import numpy as np\n",
    "\n",
    "from prysm.coordinates import cart_to_polar\n",
    "from prysm.mathops import (sin, cos)\n",
    "\n",
    "import dask\n",
    "from dask.distributed import Client\n",
    "\n",
    "from numba import vectorize\n",
    "\n",
    "import ipyparallel as ipp\n",
    "\n",
    "c = Client()\n",
    "rc = ipp.Client()\n",
    "dv = rc[:]  # ipp with all workers"
   ]
  },
  {
   "cell_type": "code",
   "execution_count": 4,
   "metadata": {},
   "outputs": [],
   "source": [
    "def Z45(rho, phi):\n",
    "    return (210 * rho**10 - 504 * rho**8 + 420 * rho**6 - 140 * rho**4 + 15 * rho**2) \\\n",
    "        * sin(2 * phi)\n",
    "    \n",
    "def Z46(rho, phi):\n",
    "    return (462 * rho**11 - 1260 * rho**9 + 1260 * rho**7 - 560 * rho**5 + 105 * rho**3 - 6 * rho) \\\n",
    "        * cos(phi)\n",
    "\n",
    "def Z47(rho, phi):\n",
    "    return (462 * rho**11 - 1260 * rho**9 + 1260 * rho**7 - 560 * rho**5 + 105 * rho**3 - 6 * rho) \\\n",
    "        * sin(phi)\n",
    "\n",
    "def Z48(rho, phi):\n",
    "    return 924 * rho**12 \\\n",
    "        - 2772 * rho**10 \\\n",
    "        + 3150 * rho**8 \\\n",
    "        - 1680 * rho**6 \\\n",
    "        + 420 * rho**4 \\\n",
    "        - 42 * rho**2 \\\n",
    "        + 1\n",
    "\n",
    "\n",
    "# apply the numba jit to Z45..Z48\n",
    "v_Z48 = vectorize(Z48)\n",
    "v_Z47 = vectorize(Z47)\n",
    "v_Z46 = vectorize(Z46)\n",
    "v_Z45 = vectorize(Z45)\n",
    "\n",
    "# apply dask delayed to Z45..Z48\n",
    "d_Z48 = dask.delayed(Z48)\n",
    "d_Z47 = dask.delayed(Z47)\n",
    "d_Z46 = dask.delayed(Z46)\n",
    "d_Z45 = dask.delayed(Z45)\n",
    "\n",
    "dv.push(dict(sin=sin, cos=cos, Z45=Z45, Z46=Z46, Z47=Z47, Z48=Z48))\n",
    "# apply ipparallel to Z45..Z48\n",
    "@dv.parallel(block=True)\n",
    "def p_Z45(rho, phi):\n",
    "    return Z45(rho, phi)\n",
    "\n",
    "@dv.parallel(block=True)\n",
    "def p_Z46(rho, phi):\n",
    "    return Z46(rho, phi)\n",
    "\n",
    "@dv.parallel(block=True)\n",
    "def p_Z47(rho, phi):\n",
    "    return Z47(rho, phi)\n",
    "\n",
    "@dv.parallel(block=True)\n",
    "def p_Z48(rho, phi):\n",
    "    return Z48(rho, phi)\n",
    "\n",
    "\n",
    "SAMPLES = 128\n",
    "x, y = np.linspace(-1, 1, SAMPLES), np.linspace(-1, 1, SAMPLES)\n",
    "rho, phi = cart_to_polar(x, y)\n",
    "\n",
    "def compute_normal(rho, phi):\n",
    "    result = Z45(rho, phi)\n",
    "    result += Z46(rho, phi)\n",
    "    result += Z47(rho, phi)\n",
    "    result += Z48(rho, phi)\n",
    "    return result\n",
    "\n",
    "def compute_numba(rho, phi):\n",
    "    result = v_Z45(rho, phi)\n",
    "    result += v_Z46(rho, phi)\n",
    "    result += v_Z47(rho, phi)\n",
    "    result += v_Z48(rho, phi)\n",
    "    return result\n",
    "\n",
    "def compute_dask(rho, phi):\n",
    "    result = d_Z45(rho, phi)\n",
    "    result += d_Z46(rho, phi)\n",
    "    result += d_Z47(rho, phi)\n",
    "    result += d_Z48(rho, phi)\n",
    "    return result\n",
    "\n",
    "def compute_ipp(rho, phi):\n",
    "    result = p_Z45(rho, phi)\n",
    "    result += p_Z46(rho, phi)\n",
    "    result += p_Z47(rho, phi)\n",
    "    result += p_Z48(rho, phi)\n",
    "    return result\n",
    "\n",
    "# warm up numba jit\n",
    "for i in range(1000):\n",
    "    dat = compute_numba(rho, phi)\n",
    "    del dat"
   ]
  },
  {
   "cell_type": "code",
   "execution_count": 5,
   "metadata": {},
   "outputs": [
    {
     "name": "stdout",
     "output_type": "stream",
     "text": [
      "497 µs ± 183 µs per loop (mean ± std. dev. of 7 runs, 1000 loops each)\n"
     ]
    }
   ],
   "source": [
    "%%timeit\n",
    "compute_normal(rho, phi)"
   ]
  },
  {
   "cell_type": "code",
   "execution_count": 6,
   "metadata": {},
   "outputs": [
    {
     "name": "stdout",
     "output_type": "stream",
     "text": [
      "41 µs ± 4.93 µs per loop (mean ± std. dev. of 7 runs, 10000 loops each)\n"
     ]
    }
   ],
   "source": [
    "%%timeit\n",
    "compute_numba(rho, phi)"
   ]
  },
  {
   "cell_type": "code",
   "execution_count": 7,
   "metadata": {},
   "outputs": [
    {
     "name": "stdout",
     "output_type": "stream",
     "text": [
      "46 ms ± 7.18 ms per loop (mean ± std. dev. of 7 runs, 1 loop each)\n"
     ]
    }
   ],
   "source": [
    "%%timeit\n",
    "r = compute_dask(rho, phi)\n",
    "r.compute()"
   ]
  },
  {
   "cell_type": "code",
   "execution_count": 8,
   "metadata": {},
   "outputs": [
    {
     "name": "stdout",
     "output_type": "stream",
     "text": [
      "150 ms ± 6.42 ms per loop (mean ± std. dev. of 7 runs, 10 loops each)\n"
     ]
    }
   ],
   "source": [
    "%%timeit\n",
    "compute_ipp(rho, phi)"
   ]
  },
  {
   "cell_type": "markdown",
   "metadata": {},
   "source": [
    "Prysm's computations generally fall into a category where the data throughput is very high and the computation time is very low (just a few math kernels).  Numba affords the opportunity to merge these kernels, optimizing performance with @vectorize.  Dask and IPyParallel have to move the data, which incurs overhead larger than the gains of multi-core computing.  Dask appears to be about 3x as efficient at that.  It is possible they would perform better where the result of the computation was e.g. the mean of the array, since the return trip transportation would be almost entirely removed by exchanging an array for a single float.  It may also be possible to only ship the rho and phi arrays once, saving more time.  Still, nubma is about 1000x faster, and it is unlikely sufficient improvement could be made to the transport to overcome this."
   ]
  },
  {
   "cell_type": "code",
   "execution_count": null,
   "metadata": {},
   "outputs": [],
   "source": []
  }
 ],
 "metadata": {
  "kernelspec": {
   "display_name": "Python 3",
   "language": "python",
   "name": "python3"
  },
  "language_info": {
   "codemirror_mode": {
    "name": "ipython",
    "version": 3
   },
   "file_extension": ".py",
   "mimetype": "text/x-python",
   "name": "python",
   "nbconvert_exporter": "python",
   "pygments_lexer": "ipython3",
   "version": "3.6.3"
  }
 },
 "nbformat": 4,
 "nbformat_minor": 2
}
